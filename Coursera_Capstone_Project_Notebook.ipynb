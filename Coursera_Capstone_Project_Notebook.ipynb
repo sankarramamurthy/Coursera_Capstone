{
    "cells": [
        {
            "cell_type": "markdown",
            "metadata": {
                "collapsed": true
            },
            "source": "# Capstone Project - The Battle of the Neighborhoods"
        },
        {
            "cell_type": "markdown",
            "metadata": {},
            "source": "![Image of Toronto](https://www.seetorontonow.com/wp-content/uploads/2020/06/Toronto-Skyline-view-from-lake.jpg)"
        },
        {
            "cell_type": "markdown",
            "metadata": {},
            "source": "## Table of Contents\n- **[Introduction](#Introduction)**\n- **[Business Problem](#Business)**\n- **[Target Audience](#Target)**\n- **[Data](#Data)**\n"
        },
        {
            "cell_type": "markdown",
            "metadata": {},
            "source": "<a id='Introduction'></a>\n## Introduction\nToronto is the capital city of the Canadian province of Ontario. With a recorded population of 2,731,571 in 2016 it is the most populous city in Canada and the fourth most populous city in North America. Toronto is an international centre of business, finance, arts, and culture, and is recognized as one of the most multicultural and cosmopolitan cities in the world.\n\nToronto encompasses a geographical area formerly administered by many separate municipalities. These municipalities have each developed a distinct history and identity over the years, and their names remain in common use among Torontonians. Throughout the city there exist hundreds of small neighbourhoods and some larger neighbourhoods covering a few square kilometres.\n\nHaving such a diverse mix of people and culture, there exists tough competition the restaurant business in Toronto. Therefore it becomes a challenging task for hoteliers to decide the optimal location to start a new restaurant in a specific neighborhood."
        },
        {
            "cell_type": "markdown",
            "metadata": {},
            "source": "<a id='Business'></a>\n## Business Problem\nThis project uses data science methodologies to find an optimal location for starting a new restaurant in Toronto, Canada.\nIt tries to identify the most suitable neighborhood, by taking into consideration the competitors and which income group of people will be attracted most to it based on the population of the neighbourhood. It also considers other factors such as cuisine provided by other restaurants, proximity to the city center etc.\n\nIn summary, this project aims at analysing the restaurants and their cuisines in various neighborhoods of Toronto and figure out the best possible neighborhood to start a new restaurant"
        },
        {
            "cell_type": "markdown",
            "metadata": {},
            "source": "<a id='Target'></a>\n## Target Audience\nThis project is beneficial to anyone who is planning to start a new restaurant business in Toronto. The project can also benefit already running restaurants to shift to some other cuisine for better prospects"
        },
        {
            "cell_type": "markdown",
            "metadata": {},
            "source": "<a id=\u2019Data\u2019></a>\n## Data\nThe data requirements for this project are as follows:\n\n- All the existing restaurants in the neighborhood along with their type and cuisine: obtained using the FourSquare API\n- The age group of people in the neighborhood along with their income\n- The distance of the neighborhood from the city center\n- The postalcode details of neighboroods shall be obtained from //en.wikipedia.org/wiki/List_of_postal_codes_of_Canada:_M"
        },
        {
            "cell_type": "code",
            "execution_count": null,
            "metadata": {},
            "outputs": [],
            "source": ""
        }
    ],
    "metadata": {
        "kernelspec": {
            "display_name": "Python 3.6",
            "language": "python",
            "name": "python3"
        },
        "language_info": {
            "codemirror_mode": {
                "name": "ipython",
                "version": 3
            },
            "file_extension": ".py",
            "mimetype": "text/x-python",
            "name": "python",
            "nbconvert_exporter": "python",
            "pygments_lexer": "ipython3",
            "version": "3.6.9"
        }
    },
    "nbformat": 4,
    "nbformat_minor": 1
}